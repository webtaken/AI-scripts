{
 "cells": [
  {
   "cell_type": "markdown",
   "metadata": {},
   "source": [
    "## Coding Interview Coach  \n",
    "Example of creating an assistant for coding interviews with the new OpenAI Assistants API."
   ]
  },
  {
   "cell_type": "code",
   "execution_count": 2,
   "metadata": {},
   "outputs": [],
   "source": [
    "import os\n",
    "from openai import OpenAI\n",
    "from dotenv import load_dotenv"
   ]
  },
  {
   "cell_type": "markdown",
   "metadata": {},
   "source": [
    "### Creating the Assistant"
   ]
  },
  {
   "cell_type": "code",
   "execution_count": 3,
   "metadata": {},
   "outputs": [],
   "source": [
    "load_dotenv()\n",
    "\n",
    "client = OpenAI(\n",
    "    api_key=os.getenv(\"OPEN_AI_API_KEY\")\n",
    ")\n",
    "\n",
    "instructions = \"\"\"You are an experienced coding interview coach that will help a junior software\n",
    "developer for an interview. Your main tasks will be:\n",
    "- Give problems on most common topics in coding interviews and return some examples.\n",
    "- When asked to evaluate a solution (in any programming language) for a problem, evaluate the \n",
    "  correctness of the solution running the code over a sample of inputs.\"\"\"\n",
    "\n",
    "# Creating the agent\n",
    "assistant = client.beta.assistants.create(\n",
    "    name=\"Personal Coding Interview Coach\",\n",
    "    instructions=instructions,\n",
    "    model=\"gpt-3.5-turbo\",\n",
    "    tools=[{\"type\": \"code_interpreter\"}]\n",
    ")\n"
   ]
  },
  {
   "cell_type": "markdown",
   "metadata": {},
   "source": [
    "### Creating a thread"
   ]
  },
  {
   "cell_type": "code",
   "execution_count": 4,
   "metadata": {},
   "outputs": [
    {
     "name": "stdout",
     "output_type": "stream",
     "text": [
      "Thread(id='thread_JBmhDZmLqjVOZf09h9YbwpN1', created_at=1700410886, metadata={}, object='thread')\n"
     ]
    }
   ],
   "source": [
    "thread = client.beta.threads.create()\n",
    "print(thread)"
   ]
  },
  {
   "cell_type": "markdown",
   "metadata": {},
   "source": [
    "### Adding a message to the thread"
   ]
  },
  {
   "cell_type": "code",
   "execution_count": 6,
   "metadata": {},
   "outputs": [
    {
     "name": "stdout",
     "output_type": "stream",
     "text": [
      "{\"id\": \"msg_m79VrxSgSiSNcFJJXD3Ort8Q\", \"assistant_id\": null, \"content\": [{\"text\": {\"annotations\": [], \"value\": \"Give me an easy problem with arrays\"}, \"type\": \"text\"}], \"created_at\": 1700412050, \"file_ids\": [], \"metadata\": {}, \"object\": \"thread.message\", \"role\": \"user\", \"run_id\": null, \"thread_id\": \"thread_JBmhDZmLqjVOZf09h9YbwpN1\"}\n"
     ]
    }
   ],
   "source": [
    "message = client.beta.threads.messages.create(\n",
    "    thread_id=thread.id,\n",
    "    role=\"user\",\n",
    "    content=\"Give me an easy problem with arrays\"\n",
    ")\n",
    "print(message.json())"
   ]
  },
  {
   "cell_type": "markdown",
   "metadata": {},
   "source": [
    "### Run the assistant"
   ]
  },
  {
   "cell_type": "code",
   "execution_count": 7,
   "metadata": {},
   "outputs": [
    {
     "name": "stdout",
     "output_type": "stream",
     "text": [
      "Run(id='run_A9EMAXzrgUgSSJkyuVKaF59w', assistant_id='asst_YVgo81fA4z8uZSCeKGhpABtz', cancelled_at=None, completed_at=None, created_at=1700412670, expires_at=1700413270, failed_at=None, file_ids=[], instructions='Please address the user as Ryan Gosling. The user has a premium account.', last_error=None, metadata={}, model='gpt-3.5-turbo', object='thread.run', required_action=None, started_at=None, status='queued', thread_id='thread_JBmhDZmLqjVOZf09h9YbwpN1', tools=[ToolAssistantToolsCode(type='code_interpreter')])\n"
     ]
    }
   ],
   "source": [
    "run = client.beta.threads.runs.create(\n",
    "    thread_id=thread.id,\n",
    "    assistant_id=assistant.id,\n",
    "    instructions=\"Please address the user as Ryan Gosling. The user has a premium account.\"\n",
    ")\n",
    "print(run)"
   ]
  },
  {
   "cell_type": "markdown",
   "metadata": {},
   "source": [
    "### Check Run status"
   ]
  },
  {
   "cell_type": "code",
   "execution_count": 8,
   "metadata": {},
   "outputs": [
    {
     "name": "stdout",
     "output_type": "stream",
     "text": [
      "Run(id='run_A9EMAXzrgUgSSJkyuVKaF59w', assistant_id='asst_YVgo81fA4z8uZSCeKGhpABtz', cancelled_at=None, completed_at=1700412674, created_at=1700412670, expires_at=None, failed_at=None, file_ids=[], instructions='Please address the user as Ryan Gosling. The user has a premium account.', last_error=None, metadata={}, model='gpt-3.5-turbo', object='thread.run', required_action=None, started_at=1700412670, status='completed', thread_id='thread_JBmhDZmLqjVOZf09h9YbwpN1', tools=[ToolAssistantToolsCode(type='code_interpreter')])\n"
     ]
    }
   ],
   "source": [
    "run = client.beta.threads.runs.retrieve(\n",
    "  thread_id=thread.id,\n",
    "  run_id=run.id\n",
    ")\n",
    "print(run)"
   ]
  },
  {
   "cell_type": "markdown",
   "metadata": {},
   "source": [
    "### Display the Assistant's response"
   ]
  },
  {
   "cell_type": "code",
   "execution_count": 9,
   "metadata": {},
   "outputs": [
    {
     "name": "stdout",
     "output_type": "stream",
     "text": [
      "user: Give me an easy problem with arrays\n",
      "user: Give me an easy problem with arrays\n",
      "assistant: Sure, how about this:\n",
      "\n",
      "Problem: Find the maximum element in an array.\n",
      "\n",
      "Write a function `find_max(arr)` that takes in an array `arr` as input and returns the maximum element in the array.\n",
      "\n",
      "For example, given the input array `[3, 9, 2, 5, 1]`, the function should return `9` since `9` is the largest element in the array.\n",
      "\n",
      "To solve this problem, you can initialize a variable `max_num` to the first element of the array. Then, iterate through the remaining elements of the array and update `max_num` if you find a larger number.\n",
      "\n",
      "Please go ahead and write the code to solve this problem.\n"
     ]
    }
   ],
   "source": [
    "messages = client.beta.threads.messages.list(\n",
    "  thread_id=thread.id\n",
    ")\n",
    "\n",
    "# Printing from oldest messages to the newest ones\n",
    "for message in reversed(messages.data):\n",
    "    print(f\"{message.role}: {message.content[0].text.value}\")"
   ]
  },
  {
   "cell_type": "markdown",
   "metadata": {},
   "source": [
    "### Solving the problem"
   ]
  },
  {
   "cell_type": "code",
   "execution_count": 10,
   "metadata": {},
   "outputs": [],
   "source": [
    "answer = \"\"\"Here is my answer in python code is it right?:\n",
    "```\n",
    "def find_max(arr):\n",
    "    if len(arr) == 0:\n",
    "        return \n",
    "    maximum = arr[0]\n",
    "    for num in arr:\n",
    "        if num > maximum:\n",
    "            maximum = num\n",
    "    return maximum\n",
    "```\n",
    "\"\"\"\n",
    "message = client.beta.threads.messages.create(\n",
    "    thread_id=thread.id,\n",
    "    role=\"user\",\n",
    "    content=answer\n",
    ")\n",
    "\n",
    "run = client.beta.threads.runs.create(\n",
    "    thread_id=thread.id,\n",
    "    assistant_id=assistant.id,\n",
    "    instructions=\"Please evaluate this code, test it with corner cases as well.\"\n",
    ")"
   ]
  },
  {
   "cell_type": "code",
   "execution_count": 14,
   "metadata": {},
   "outputs": [
    {
     "name": "stdout",
     "output_type": "stream",
     "text": [
      "assistant: Your code passed all the test cases, including corner cases. Well done! The function correctly finds the maximum element in the array.\n",
      "\n",
      "Here are the outputs for the test cases:\n",
      "- Test Case 1: `9`\n",
      "- Test Case 2: `None`\n",
      "- Test Case 3: `-1`\n",
      "- Test Case 4: `8`\n",
      "- Test Case 5: `7`\n",
      "\n",
      "Is there anything else I can help you with?\n"
     ]
    }
   ],
   "source": [
    "messages = client.beta.threads.messages.list(\n",
    "  thread_id=thread.id\n",
    ")\n",
    "\n",
    "# Printing the last response from the assistant\n",
    "print(f\"{messages.data[0].role}: {messages.data[0].content[0].text.value}\")"
   ]
  }
 ],
 "metadata": {
  "kernelspec": {
   "display_name": "AI",
   "language": "python",
   "name": "python3"
  },
  "language_info": {
   "codemirror_mode": {
    "name": "ipython",
    "version": 3
   },
   "file_extension": ".py",
   "mimetype": "text/x-python",
   "name": "python",
   "nbconvert_exporter": "python",
   "pygments_lexer": "ipython3",
   "version": "3.11.5"
  }
 },
 "nbformat": 4,
 "nbformat_minor": 2
}
