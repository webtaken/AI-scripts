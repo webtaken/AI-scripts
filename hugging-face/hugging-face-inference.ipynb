{
 "cells": [
  {
   "cell_type": "markdown",
   "metadata": {},
   "source": [
    "# Hugging Face API inference"
   ]
  },
  {
   "cell_type": "code",
   "execution_count": 4,
   "metadata": {},
   "outputs": [
    {
     "name": "stdout",
     "output_type": "stream",
     "text": [
      "[\n",
      "  [\n",
      "    {\n",
      "      \"label\": \"positive\",\n",
      "      \"score\": 0.9725496172904968\n",
      "    },\n",
      "    {\n",
      "      \"label\": \"neutral\",\n",
      "      \"score\": 0.018842175602912903\n",
      "    },\n",
      "    {\n",
      "      \"label\": \"negative\",\n",
      "      \"score\": 0.008608155883848667\n",
      "    }\n",
      "  ]\n",
      "]\n"
     ]
    }
   ],
   "source": [
    "import os\n",
    "from dotenv import load_dotenv\n",
    "import requests\n",
    "import json\n",
    "\n",
    "load_dotenv()\n",
    "\n",
    "TOKEN = os.getenv(\"HUGGING_FACE_API_TOKEN\")\n",
    "API_URL = \"https://api-inference.huggingface.co/models/lxyuan/distilbert-base-multilingual-cased-sentiments-student\"\n",
    "headers = {\"Authorization\": f\"Bearer {TOKEN}\"}\n",
    "\n",
    "def query(payload):\n",
    "\tresponse = requests.post(API_URL, headers=headers, json=payload)\n",
    "\treturn response.json()\n",
    "\t\n",
    "output = query({\n",
    "\t\"inputs\": \"I like you. I love you\",\n",
    "})\n",
    "\n",
    "print(json.dumps(output, indent=2, default=str))"
   ]
  },
  {
   "cell_type": "code",
   "execution_count": 5,
   "metadata": {},
   "outputs": [
    {
     "name": "stdout",
     "output_type": "stream",
     "text": [
      "[\n",
      "  [\n",
      "    {\n",
      "      \"label\": \"positive\",\n",
      "      \"score\": 0.9725496172904968\n",
      "    },\n",
      "    {\n",
      "      \"label\": \"neutral\",\n",
      "      \"score\": 0.018842175602912903\n",
      "    },\n",
      "    {\n",
      "      \"label\": \"negative\",\n",
      "      \"score\": 0.008608155883848667\n",
      "    }\n",
      "  ],\n",
      "  [\n",
      "    {\n",
      "      \"label\": \"negative\",\n",
      "      \"score\": 0.8973513245582581\n",
      "    },\n",
      "    {\n",
      "      \"label\": \"positive\",\n",
      "      \"score\": 0.06305788457393646\n",
      "    },\n",
      "    {\n",
      "      \"label\": \"neutral\",\n",
      "      \"score\": 0.03959077596664429\n",
      "    }\n",
      "  ],\n",
      "  [\n",
      "    {\n",
      "      \"label\": \"positive\",\n",
      "      \"score\": 0.8298867344856262\n",
      "    },\n",
      "    {\n",
      "      \"label\": \"neutral\",\n",
      "      \"score\": 0.09724683314561844\n",
      "    },\n",
      "    {\n",
      "      \"label\": \"negative\",\n",
      "      \"score\": 0.07286641001701355\n",
      "    }\n",
      "  ]\n",
      "]\n"
     ]
    }
   ],
   "source": [
    "output = query({\n",
    "\t\"inputs\": [\"I like you. I love you\", \"I hate you\", \"Hope everything goes well\"],\n",
    "})\n",
    "\n",
    "print(json.dumps(output, indent=2, default=str))"
   ]
  }
 ],
 "metadata": {
  "kernelspec": {
   "display_name": "AI",
   "language": "python",
   "name": "python3"
  },
  "language_info": {
   "codemirror_mode": {
    "name": "ipython",
    "version": 3
   },
   "file_extension": ".py",
   "mimetype": "text/x-python",
   "name": "python",
   "nbconvert_exporter": "python",
   "pygments_lexer": "ipython3",
   "version": "3.11.5"
  }
 },
 "nbformat": 4,
 "nbformat_minor": 2
}
